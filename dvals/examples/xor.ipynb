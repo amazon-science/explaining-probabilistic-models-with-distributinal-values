{
 "cells": [
  {
   "cell_type": "code",
   "execution_count": 1,
   "metadata": {
    "collapsed": true,
    "ExecuteTime": {
     "end_time": "2024-06-14T16:59:53.716791Z",
     "start_time": "2024-06-14T16:59:52.794148Z"
    }
   },
   "outputs": [],
   "source": [
    "from dvals import values, player_distributions, games\n",
    "import numpy as np"
   ]
  },
  {
   "cell_type": "code",
   "execution_count": 2,
   "outputs": [],
   "source": [
    "# define the XOR payoff\n",
    "def xor(S):\n",
    "    # S is the coalition batch\n",
    "    return np.array([len(s) % 2 for s in S])\n",
    "# wrap in a game\n",
    "xor_game = games.Game(xor)"
   ],
   "metadata": {
    "collapsed": false,
    "ExecuteTime": {
     "end_time": "2024-06-14T16:59:54.170378Z",
     "start_time": "2024-06-14T16:59:54.167738Z"
    }
   }
  },
  {
   "cell_type": "code",
   "execution_count": 3,
   "outputs": [],
   "source": [
    "# define the coalition distribution\n",
    "scd = player_distributions.ShapleyCD(2)  # 2 players  [0 and 1]"
   ],
   "metadata": {
    "collapsed": false,
    "ExecuteTime": {
     "end_time": "2024-06-14T16:59:54.658338Z",
     "start_time": "2024-06-14T16:59:54.656154Z"
    }
   }
  },
  {
   "cell_type": "code",
   "execution_count": 4,
   "outputs": [
    {
     "name": "stderr",
     "output_type": "stream",
     "text": [
      "100%|██████████| 2/2 [00:00<00:00, 8058.22it/s]\n"
     ]
    },
    {
     "data": {
      "text/plain": "{0: 0.0, 1: 0.0}"
     },
     "execution_count": 4,
     "metadata": {},
     "output_type": "execute_result"
    }
   ],
   "source": [
    "# compute the standard Shapley value\n",
    "s_val = values.compute(xor_game, scd)\n",
    "s_val  # both players get 0 (s_val is a dictionary player: value (float in this case) )"
   ],
   "metadata": {
    "collapsed": false,
    "ExecuteTime": {
     "end_time": "2024-06-14T16:59:55.154099Z",
     "start_time": "2024-06-14T16:59:55.126849Z"
    }
   }
  },
  {
   "cell_type": "code",
   "execution_count": 5,
   "outputs": [],
   "source": [
    "# redefine the game as a Bernoulli game\n",
    "xor_ber_game = games.BernoulliGame.from_success_prob_game(xor_game)"
   ],
   "metadata": {
    "collapsed": false,
    "ExecuteTime": {
     "end_time": "2024-06-14T16:59:55.747447Z",
     "start_time": "2024-06-14T16:59:55.745255Z"
    }
   }
  },
  {
   "cell_type": "code",
   "execution_count": 6,
   "outputs": [
    {
     "name": "stderr",
     "output_type": "stream",
     "text": [
      "100%|██████████| 2/2 [00:00<00:00, 10880.17it/s]\n"
     ]
    },
    {
     "data": {
      "text/plain": "{0: <BernoulliDifference {1.0: 0.5, 0.0: 0.0, -1.0: 0.5}>,\n 1: <BernoulliDifference {1.0: 0.5, 0.0: 0.0, -1.0: 0.5}>}"
     },
     "execution_count": 6,
     "metadata": {},
     "output_type": "execute_result"
    }
   ],
   "source": [
    "# compute the distributional (Bernoulli) values, using the same function\n",
    "ber_val = values.compute(xor_ber_game, scd)\n",
    "ber_val  # again a dictionary, but this time the values are probability mass functions, represented by `BernoulliDifference`"
   ],
   "metadata": {
    "collapsed": false,
    "ExecuteTime": {
     "end_time": "2024-06-14T16:59:56.269022Z",
     "start_time": "2024-06-14T16:59:56.264469Z"
    }
   }
  },
  {
   "cell_type": "code",
   "execution_count": 7,
   "outputs": [
    {
     "data": {
      "text/plain": "(1.0, 1.0)"
     },
     "execution_count": 7,
     "metadata": {},
     "output_type": "execute_result"
    }
   ],
   "source": [
    "# probability of (any) change, which may be used as a measure of importance\n",
    "ber_val[0].probability_of_change(), ber_val[1].probability_of_change()"
   ],
   "metadata": {
    "collapsed": false,
    "ExecuteTime": {
     "end_time": "2024-06-14T16:59:57.019474Z",
     "start_time": "2024-06-14T16:59:57.015508Z"
    }
   }
  },
  {
   "cell_type": "code",
   "execution_count": null,
   "outputs": [],
   "source": [],
   "metadata": {
    "collapsed": false
   }
  }
 ],
 "metadata": {
  "kernelspec": {
   "display_name": "Python 3",
   "language": "python",
   "name": "python3"
  },
  "language_info": {
   "codemirror_mode": {
    "name": "ipython",
    "version": 2
   },
   "file_extension": ".py",
   "mimetype": "text/x-python",
   "name": "python",
   "nbconvert_exporter": "python",
   "pygments_lexer": "ipython2",
   "version": "2.7.6"
  }
 },
 "nbformat": 4,
 "nbformat_minor": 0
}
